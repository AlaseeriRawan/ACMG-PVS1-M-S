{
  "nbformat": 4,
  "nbformat_minor": 0,
  "metadata": {
    "colab": {
      "provenance": [],
      "collapsed_sections": [
        "GLf1sL1BUT29",
        "uXRPkZxcWH_H"
      ],
      "authorship_tag": "ABX9TyPfyTUHyea5KjkzvSu3GNpa",
      "include_colab_link": true
    },
    "kernelspec": {
      "name": "python3",
      "display_name": "Python 3"
    },
    "language_info": {
      "name": "python"
    }
  },
  "cells": [
    {
      "cell_type": "markdown",
      "metadata": {
        "id": "view-in-github",
        "colab_type": "text"
      },
      "source": [
        "<a href=\"https://colab.research.google.com/github/AlaseeriRawan/ACMG-PVS1-M-S/blob/main/pct_of_exon.ipynb\" target=\"_parent\"><img src=\"https://colab.research.google.com/assets/colab-badge.svg\" alt=\"Open In Colab\"/></a>"
      ]
    },
    {
      "cell_type": "markdown",
      "source": [
        "# Install the necessary packages\n",
        "### complete"
      ],
      "metadata": {
        "id": "GLf1sL1BUT29"
      }
    },
    {
      "cell_type": "code",
      "source": [
        "# Instillation\n",
        "!pip install pandas gffutils\n",
        "!pip install openpyxl\n",
        "!wget ftp://ftp.ensembl.org/pub/release-112/gtf/homo_sapiens/Homo_sapiens.GRCh38.112.gtf.gz\n",
        "!gunzip Homo_sapiens.GRCh38.112.gtf.gz"
      ],
      "metadata": {
        "colab": {
          "base_uri": "https://localhost:8080/"
        },
        "collapsed": true,
        "id": "8ybGVx3YXcOQ",
        "outputId": "1b656782-a627-4b74-d4e2-4de832c3fc57"
      },
      "execution_count": 1,
      "outputs": [
        {
          "output_type": "stream",
          "name": "stdout",
          "text": [
            "Requirement already satisfied: pandas in /usr/local/lib/python3.10/dist-packages (2.1.4)\n",
            "Collecting gffutils\n",
            "  Downloading gffutils-0.13-py3-none-any.whl.metadata (1.5 kB)\n",
            "Requirement already satisfied: numpy<2,>=1.22.4 in /usr/local/lib/python3.10/dist-packages (from pandas) (1.26.4)\n",
            "Requirement already satisfied: python-dateutil>=2.8.2 in /usr/local/lib/python3.10/dist-packages (from pandas) (2.8.2)\n",
            "Requirement already satisfied: pytz>=2020.1 in /usr/local/lib/python3.10/dist-packages (from pandas) (2024.1)\n",
            "Requirement already satisfied: tzdata>=2022.1 in /usr/local/lib/python3.10/dist-packages (from pandas) (2024.1)\n",
            "Collecting pyfaidx>=0.5.5.2 (from gffutils)\n",
            "  Downloading pyfaidx-0.8.1.2-py3-none-any.whl.metadata (25 kB)\n",
            "Collecting argh>=0.26.2 (from gffutils)\n",
            "  Downloading argh-0.31.3-py3-none-any.whl.metadata (7.4 kB)\n",
            "Collecting argcomplete>=1.9.4 (from gffutils)\n",
            "  Downloading argcomplete-3.5.0-py3-none-any.whl.metadata (16 kB)\n",
            "Collecting simplejson (from gffutils)\n",
            "  Downloading simplejson-3.19.3-cp310-cp310-manylinux_2_5_x86_64.manylinux1_x86_64.manylinux_2_17_x86_64.manylinux2014_x86_64.whl.metadata (3.2 kB)\n",
            "Requirement already satisfied: setuptools in /usr/local/lib/python3.10/dist-packages (from pyfaidx>=0.5.5.2->gffutils) (71.0.4)\n",
            "Requirement already satisfied: importlib-metadata in /usr/local/lib/python3.10/dist-packages (from pyfaidx>=0.5.5.2->gffutils) (8.4.0)\n",
            "Requirement already satisfied: packaging in /usr/local/lib/python3.10/dist-packages (from pyfaidx>=0.5.5.2->gffutils) (24.1)\n",
            "Requirement already satisfied: six>=1.5 in /usr/local/lib/python3.10/dist-packages (from python-dateutil>=2.8.2->pandas) (1.16.0)\n",
            "Requirement already satisfied: zipp>=0.5 in /usr/local/lib/python3.10/dist-packages (from importlib-metadata->pyfaidx>=0.5.5.2->gffutils) (3.20.1)\n",
            "Downloading gffutils-0.13-py3-none-any.whl (1.6 MB)\n",
            "\u001b[2K   \u001b[90m━━━━━━━━━━━━━━━━━━━━━━━━━━━━━━━━━━━━━━━━\u001b[0m \u001b[32m1.6/1.6 MB\u001b[0m \u001b[31m14.2 MB/s\u001b[0m eta \u001b[36m0:00:00\u001b[0m\n",
            "\u001b[?25hDownloading argcomplete-3.5.0-py3-none-any.whl (43 kB)\n",
            "\u001b[2K   \u001b[90m━━━━━━━━━━━━━━━━━━━━━━━━━━━━━━━━━━━━━━━━\u001b[0m \u001b[32m43.5/43.5 kB\u001b[0m \u001b[31m1.3 MB/s\u001b[0m eta \u001b[36m0:00:00\u001b[0m\n",
            "\u001b[?25hDownloading argh-0.31.3-py3-none-any.whl (44 kB)\n",
            "\u001b[2K   \u001b[90m━━━━━━━━━━━━━━━━━━━━━━━━━━━━━━━━━━━━━━━━\u001b[0m \u001b[32m44.8/44.8 kB\u001b[0m \u001b[31m2.4 MB/s\u001b[0m eta \u001b[36m0:00:00\u001b[0m\n",
            "\u001b[?25hDownloading pyfaidx-0.8.1.2-py3-none-any.whl (28 kB)\n",
            "Downloading simplejson-3.19.3-cp310-cp310-manylinux_2_5_x86_64.manylinux1_x86_64.manylinux_2_17_x86_64.manylinux2014_x86_64.whl (137 kB)\n",
            "\u001b[2K   \u001b[90m━━━━━━━━━━━━━━━━━━━━━━━━━━━━━━━━━━━━━━━━\u001b[0m \u001b[32m137.9/137.9 kB\u001b[0m \u001b[31m6.5 MB/s\u001b[0m eta \u001b[36m0:00:00\u001b[0m\n",
            "\u001b[?25hInstalling collected packages: simplejson, argh, argcomplete, pyfaidx, gffutils\n",
            "Successfully installed argcomplete-3.5.0 argh-0.31.3 gffutils-0.13 pyfaidx-0.8.1.2 simplejson-3.19.3\n",
            "Requirement already satisfied: openpyxl in /usr/local/lib/python3.10/dist-packages (3.1.5)\n",
            "Requirement already satisfied: et-xmlfile in /usr/local/lib/python3.10/dist-packages (from openpyxl) (1.1.0)\n",
            "--2024-09-01 06:51:58--  ftp://ftp.ensembl.org/pub/release-112/gtf/homo_sapiens/Homo_sapiens.GRCh38.112.gtf.gz\n",
            "           => ‘Homo_sapiens.GRCh38.112.gtf.gz’\n",
            "Resolving ftp.ensembl.org (ftp.ensembl.org)... 193.62.193.169\n",
            "Connecting to ftp.ensembl.org (ftp.ensembl.org)|193.62.193.169|:21... connected.\n",
            "Logging in as anonymous ... Logged in!\n",
            "==> SYST ... done.    ==> PWD ... done.\n",
            "==> TYPE I ... done.  ==> CWD (1) /pub/release-112/gtf/homo_sapiens ... done.\n",
            "==> SIZE Homo_sapiens.GRCh38.112.gtf.gz ... 55529204\n",
            "==> PASV ... done.    ==> RETR Homo_sapiens.GRCh38.112.gtf.gz ... done.\n",
            "Length: 55529204 (53M) (unauthoritative)\n",
            "\n",
            "Homo_sapiens.GRCh38 100%[===================>]  52.96M  12.5MB/s    in 5.3s    \n",
            "\n",
            "2024-09-01 06:52:07 (10.1 MB/s) - ‘Homo_sapiens.GRCh38.112.gtf.gz’ saved [55529204]\n",
            "\n"
          ]
        }
      ]
    },
    {
      "cell_type": "code",
      "source": [
        "import pandas as pd\n",
        "import requests"
      ],
      "metadata": {
        "id": "umFL0JDglNQ9"
      },
      "execution_count": 2,
      "outputs": []
    },
    {
      "cell_type": "code",
      "source": [
        "# Define the GTF file path\n",
        "gtf_file = 'Homo_sapiens.GRCh38.112.gtf'\n",
        "# Define the column names for the GTF file\n",
        "columns = ['seqname', 'source', 'feature', 'start', 'end', 'score', 'strand', 'frame', 'attribute']\n",
        "# Load the GTF file into a pandas DataFrame\n",
        "df = pd.read_csv(gtf_file, sep='\\t', comment='#', names=columns, low_memory=False)"
      ],
      "metadata": {
        "id": "mJzAwnlrDJyn"
      },
      "execution_count": 3,
      "outputs": []
    },
    {
      "cell_type": "code",
      "source": [
        "# df.head() data frame of the whole GTF Ensembl data"
      ],
      "metadata": {
        "id": "Y7Z5mbnPGH8k"
      },
      "execution_count": 4,
      "outputs": []
    },
    {
      "cell_type": "markdown",
      "source": [
        "# Get Ensembl gene and transcript IDs from RefSeq ID, with exon and CDS count\n",
        "### complete"
      ],
      "metadata": {
        "id": "l9rgADWqUkaV"
      }
    },
    {
      "cell_type": "code",
      "source": [
        "# @title Transcript Number\n",
        "# Prompt the user to input the RefSeq ID\n",
        "refseq_id = input(\"Please enter the RefSeq ID (e.g., NM_001267550): \")\n",
        "\n",
        "# Query Ensembl REST API for mapping\n",
        "server = \"https://rest.ensembl.org\"\n",
        "ext = f\"/xrefs/symbol/homo_sapiens/{refseq_id}?\"\n",
        "\n",
        "response = requests.get(server + ext, headers={\"Content-Type\": \"application/json\"})\n",
        "\n",
        "if not response.ok:\n",
        "    response.raise_for_status()\n",
        "\n",
        "decoded = response.json()\n",
        "\n",
        "# Initialize variables\n",
        "gene_id = None\n",
        "transcript_id = None\n",
        "\n",
        "# Assign the Ensembl Gene ID and Transcript ID\n",
        "for item in decoded:\n",
        "    if 'id' in item and item['type'] == 'gene':\n",
        "        gene_id = item['id']\n",
        "        print(f\"RefSeq ID: {refseq_id} -> Ensembl Gene ID: {gene_id}\")\n",
        "    elif 'id' in item and item['type'] == 'transcript':\n",
        "        transcript_id = item['id']\n",
        "        print(f\"RefSeq ID: {refseq_id} -> Ensembl Transcript ID: {transcript_id}\")\n",
        "\n",
        "# Display the assigned values\n",
        "print(f\"\\nAssigned Gene ID: {gene_id}\")\n",
        "print(f\"Assigned Transcript ID: {transcript_id}\")\n",
        "\n",
        "# Filter the DataFrame for the user-specified gene\n",
        "gene_df = df[df['attribute'].str.contains(gene_id)]\n",
        "\n",
        "# Further filter the DataFrame for the specific transcript ID\n",
        "transcript_df = gene_df[gene_df['attribute'].str.contains(transcript_id)]\n",
        "\n",
        "# Filter the DataFrame for the specific transcript ID\n",
        "exons_df = gene_df[(gene_df['feature'] == 'exon') & (gene_df['attribute'].str.contains(transcript_id))]\n",
        "transcript_ids = gene_df['attribute'].str.extract(r'transcript_id \"([^\"]+)\"')[0].dropna().unique()\n",
        "cds_df = gene_df[(gene_df['feature'] == 'CDS') & (gene_df['attribute'].str.contains(transcript_id))]\n",
        "\n",
        "\n",
        "# Count the number of exons\n",
        "exon_count = len(exons_df)\n",
        "cds_count = len(cds_df)\n",
        "\n",
        "# Display the number of exons\n",
        "print(f\"The transcript {transcript_id} has {exon_count} exons and {cds_count} CDS\")\n",
        "print(\"If the above information is correct, please proceed with the rest of the code below.\")\n",
        "\n",
        "# DATAFRAMES\n",
        "# gene_df : df for entire gene with all transcrpts\n",
        "# exons_df : df of just the exons for my particulare transcript\n",
        "# cds_df :df contains just the CDS for my transcript\n",
        "# transcript_df : df contains all the data for the transcript including exons, cds, start and end codons and utr regions"
      ],
      "metadata": {
        "colab": {
          "base_uri": "https://localhost:8080/"
        },
        "id": "gjNKW4LAiKOf",
        "outputId": "76386ced-b686-41e1-8a8e-754bd18d44b0",
        "cellView": "form"
      },
      "execution_count": 5,
      "outputs": [
        {
          "output_type": "stream",
          "name": "stdout",
          "text": [
            "Please enter the RefSeq ID (e.g., NM_001267550): NM_006073\n",
            "RefSeq ID: NM_006073 -> Ensembl Gene ID: ENSG00000186439\n",
            "RefSeq ID: NM_006073 -> Ensembl Transcript ID: ENST00000334268\n",
            "\n",
            "Assigned Gene ID: ENSG00000186439\n",
            "Assigned Transcript ID: ENST00000334268\n",
            "The transcript ENST00000334268 has 41 exons and 41 CDS\n",
            "If the above information is correct, please proceed with the rest of the code below.\n"
          ]
        }
      ]
    },
    {
      "cell_type": "markdown",
      "source": [
        "# Calculate % of the exon"
      ],
      "metadata": {
        "id": "uXRPkZxcWH_H"
      }
    },
    {
      "cell_type": "markdown",
      "source": [
        "## **positions**:\n",
        "\n",
        "\n",
        "1.   First CDS (start - end)\n",
        "2.   Start Codon (start - end)\n",
        "3.   Other CDS (sum)\n",
        "4.   Last CDS (start - end)\n",
        "5.   Stop Codon (start - end)\n",
        "\n",
        "**total CDS = X**\n",
        "\n",
        "**total exon = (input CDS number) sum**\n",
        "\n",
        "**pct of exon = total exon / total CDS * 100**\n",
        "\n"
      ],
      "metadata": {
        "id": "frYuzkKFwNy5"
      }
    },
    {
      "cell_type": "markdown",
      "source": [
        "# Code Execution"
      ],
      "metadata": {
        "id": "4crQSPLevHaC"
      }
    },
    {
      "cell_type": "code",
      "source": [
        "# @title Exon Number\n",
        "# Input the CDS number\n",
        "cds_number = input(\"Please enter the exon number you want to analyze (e.g., 15): \")\n",
        "\n",
        "# Filter for the specified CDS number in the CDS df of the transcript\n",
        "myCDS_df = cds_df[cds_df['attribute'].str.contains(f'exon_number \"{cds_number}\"')]\n",
        "\n",
        "# Extract the start, end, and attribute information for the selected cds\n",
        "cds_start = myCDS_df['start'].values[0]\n",
        "cds_end = myCDS_df['end'].values[0]\n",
        "cds_length = cds_end - cds_start + 1  # Calculate exon length\n",
        "cds_attributes = myCDS_df['attribute'].values[0]\n",
        "\n",
        "# Extract the start, end, and attribute of transcript\n",
        "transcript_start = transcript_df['start'].values[0]\n",
        "transcript_end = transcript_df['end'].values[0]\n",
        "transcript_length = transcript_end - transcript_start + 1\n",
        "\n",
        "# Calculate the total length of all exons\n",
        "cds_lengths = cds_df['end'] - cds_df['start'] +1\n",
        "full_cds_length = cds_lengths.sum() + 3\n",
        "\n",
        "# Calculate the percentage of the selected exon relative to the entire gene length\n",
        "exon_percentage = (cds_length / transcript_length) * 100\n",
        "\n",
        "# Display the start, end, length, and full attributes\n",
        "print(f\"Exon {cds_number} Start: {cds_start}\")\n",
        "print(f\"Exon {cds_number} End: {cds_end}\")\n",
        "print(f\"Exon {cds_number} Length: {cds_length}\")\n",
        "\n",
        "# Display the start, end, and length of the transcript\n",
        "print(f\"Transcript Start: {transcript_start}\")\n",
        "print(f\"Transcript End: {transcript_end}\")\n",
        "print(f\"CDS Length: {full_cds_length}\")\n",
        "\n",
        "# pct manual\n",
        "pct_ex = (cds_length / full_cds_length) * 100\n",
        "print(f\"Exon {cds_number} is {pct_ex}% of the total gene length.\")\n",
        "\n",
        "if pct_ex > 9.99:\n",
        "  print(\"PVS1_STRONG\")\n",
        "else:\n",
        "    print(\"PVS1_MODERATE\")"
      ],
      "metadata": {
        "colab": {
          "base_uri": "https://localhost:8080/"
        },
        "id": "DbTXe-nDqJPl",
        "outputId": "29312fb7-10f8-4160-92c1-45862235aefa"
      },
      "execution_count": 11,
      "outputs": [
        {
          "output_type": "stream",
          "name": "stdout",
          "text": [
            "Please enter the exon number you want to analyze (e.g., 15): 25\n",
            "Exon 25 Start: 123279056\n",
            "Exon 25 End: 123279082\n",
            "Exon 25 Length: 27\n",
            "Transcript Start: 123216339\n",
            "Transcript End: 123636950\n",
            "CDS Length: 2190\n",
            "Exon 25 is 1.2328767123287672% of the total gene length.\n",
            "PVS1_MODERATE\n"
          ]
        }
      ]
    }
  ]
}