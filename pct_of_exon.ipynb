{
  "nbformat": 4,
  "nbformat_minor": 0,
  "metadata": {
    "colab": {
      "provenance": [],
      "collapsed_sections": [
        "GLf1sL1BUT29",
        "uXRPkZxcWH_H"
      ],
      "authorship_tag": "ABX9TyMeBXZcjzE9DTh1umJ1yDnU",
      "include_colab_link": true
    },
    "kernelspec": {
      "name": "python3",
      "display_name": "Python 3"
    },
    "language_info": {
      "name": "python"
    }
  },
  "cells": [
    {
      "cell_type": "markdown",
      "metadata": {
        "id": "view-in-github",
        "colab_type": "text"
      },
      "source": [
        "<a href=\"https://colab.research.google.com/github/AlaseeriRawan/ACMG-PVS1-M-S/blob/main/pct_of_exon.ipynb\" target=\"_parent\"><img src=\"https://colab.research.google.com/assets/colab-badge.svg\" alt=\"Open In Colab\"/></a>"
      ]
    },
    {
      "cell_type": "markdown",
      "source": [
        "# **What is Ensembl?**\n",
        "**Ensembl** is a comprehensive and widely used database in genomics and bioinformatics that provides detailed information about the genomes of a wide range of species, including humans, mice, plants, and many others. It's developed by the European Bioinformatics Institute (EBI) and the Wellcome Trust Sanger Institute.\n",
        "\n",
        "### Key Features of Ensembl:\n",
        "\n",
        "1. **Genome Annotation:**\n",
        "   - Ensembl provides detailed annotations of genomes, including information about genes, transcripts, exons, regulatory elements, and variations. These annotations are based on the latest genomic research and data, providing high-quality, up-to-date resources for researchers.\n",
        "\n",
        "2. **Gene and Transcript Information:**\n",
        "   - For each gene in a genome, Ensembl provides information about its location, structure (including exons, introns, and untranslated regions), and function.\n",
        "   - It also provides details about different transcripts (mRNA sequences produced from the gene), including protein-coding and non-coding transcripts.\n",
        "\n",
        "3. **Comparative Genomics:**\n",
        "   - Ensembl includes tools for comparing genomes across different species. This allows researchers to study evolutionary relationships, identify conserved regions, and explore functional genomics.\n",
        "\n",
        "4. **Variation Data:**\n",
        "   - Ensembl hosts extensive data on genetic variations, such as single nucleotide polymorphisms (SNPs), insertions/deletions (indels), and structural variants. This is crucial for studying genetic diversity, disease associations, and personalized medicine.\n",
        "\n",
        "5. **Regulation:**\n",
        "   - The database includes information on regulatory elements like promoters, enhancers, and transcription factor binding sites, helping researchers understand how genes are regulated at the genomic level.\n",
        "\n",
        "6. **Tools and Interfaces:**\n",
        "   - **Ensembl Genome Browser:** A web-based interface that allows users to explore and visualize genomic data interactively.\n",
        "   - **BioMart:** A powerful data mining tool for querying and exporting data from Ensembl.\n",
        "   - **APIs:** Ensembl provides programmatic access to its data through RESTful APIs, making it easy for developers and bioinformaticians to integrate Ensembl data into their analyses.\n",
        "\n",
        "7. **Multi-Species Data:**\n",
        "   - Ensembl is not limited to human data; it covers a broad range of species, making it a valuable resource for comparative genomics and evolutionary studies.\n",
        "\n",
        "### Why Ensembl is Important:\n",
        "\n",
        "- **Centralized Resource:** Ensembl is a one-stop-shop for genomic data, integrating data from multiple sources and presenting it in a user-friendly way.\n",
        "- **High-Quality Annotations:** The data in Ensembl is curated and updated regularly, ensuring that researchers have access to the most reliable and current information.\n",
        "- **Broad Accessibility:** Ensembl is freely available and used by researchers around the world, supporting a wide range of applications from basic research to clinical genomics.\n",
        "\n",
        "### Practical Uses of Ensembl:\n",
        "\n",
        "- **Gene Annotation:** Researchers use Ensembl to find information about specific genes, including their sequences, functions, and associated variations.\n",
        "- **Disease Research:** Ensembl's variation data helps researchers understand the genetic basis of diseases by linking variations to phenotypes.\n",
        "- **Comparative Studies:** Ensembl's comparative genomics tools allow researchers to compare genes and genomes across species, shedding light on evolutionary processes.\n",
        "- **Bioinformatics Pipelines:** Ensembl data is often integrated into bioinformatics pipelines for tasks like genome annotation, variant calling, and functional genomics.\n",
        "\n",
        "### Example Use Case:\n",
        "If you're studying the *Titin* (TTN) gene, Ensembl would allow you to:\n",
        "- Access the gene's full sequence and structure, including all known exons and introns.\n",
        "- Explore different transcripts of the TTN gene, such as the primary coding transcript and its alternative splicing variants.\n",
        "- Examine variations in the TTN gene that may be linked to muscular diseases.\n",
        "\n",
        "### Accessing Ensembl:\n",
        "- **Website:** [Ensembl.org](https://www.ensembl.org) provides a user-friendly web interface for exploring all of this data.\n",
        "- **Programmatic Access:** For large-scale data analysis, you can use Ensembl's APIs or download data directly from their FTP servers.\n",
        "\n",
        "Ensembl is an essential tool in modern genomics, offering comprehensive resources that make it easier for researchers to explore and understand the complexities of genomes."
      ],
      "metadata": {
        "id": "GBQlUy6bL8B3"
      }
    },
    {
      "cell_type": "markdown",
      "source": [
        "# **What is GTF?**\n",
        "A **GTF** file is a type of text file used in bioinformatics to store and describe gene structure annotations, such as the positions of exons, introns, and other genomic features within a genome.\n",
        "\n",
        "### What is a GTF File?\n",
        "\n",
        "**GTF** is a tab-delimited text file format, and it is widely used to represent gene annotations, particularly in the context of genome assemblies. The GTF format is very similar to the General Feature Format (GFF), but with some specific conventions that make it more suited for certain tasks, especially those involving transcript annotations.\n",
        "\n",
        "### Structure of a GTF File:\n",
        "\n",
        "A GTF file typically contains the following fields, separated by tabs:\n",
        "\n",
        "1. **seqname**: The name of the sequence (e.g., chromosome or scaffold) where the feature is located.\n",
        "2. **source**: The name of the program or database that generated the annotation (e.g., Ensembl, HAVANA).\n",
        "3. **feature**: The type of genomic feature (e.g., gene, transcript, exon, CDS).\n",
        "4. **start**: The starting position of the feature on the sequence (1-based indexing).\n",
        "5. **end**: The ending position of the feature on the sequence.\n",
        "6. **score**: A floating-point number representing the confidence or score of the feature (often `.` if not used).\n",
        "7. **strand**: The strand on which the feature is located (`+` for the forward strand, `-` for the reverse strand).\n",
        "8. **frame**: The reading frame of the feature (`0`, `1`, `2`, or `.` if not applicable). This is particularly relevant for coding sequences (CDS).\n",
        "9. **attribute**: A semicolon-separated list of key-value pairs that provide additional information about the feature, such as gene ID, transcript ID, gene name, transcript name, and exon number.\n",
        "\n",
        "### Example of a GTF File:\n",
        "\n",
        "Here’s an example of a GTF entry:\n",
        "\n",
        "```\n",
        "chr1    HAVANA  gene       11869   14409   .       +       .       gene_id \"ENSG00000223972\"; gene_name \"DDX11L1\"; gene_source \"havana\"; gene_biotype \"transcribed_unprocessed_pseudogene\";\n",
        "chr1    HAVANA  transcript 11869   14409   .       +       .       gene_id \"ENSG00000223972\"; transcript_id \"ENST00000456328\"; gene_name \"DDX11L1\"; transcript_name \"DDX11L1-201\"; transcript_source \"havana\"; transcript_biotype \"processed_transcript\";\n",
        "chr1    HAVANA  exon       11869   12227   .       +       .       gene_id \"ENSG00000223972\"; transcript_id \"ENST00000456328\"; exon_number \"1\"; gene_name \"DDX11L1\"; transcript_name \"DDX11L1-201\";\n",
        "```\n",
        "\n",
        "### Key Components:\n",
        "\n",
        "- **gene_id** and **transcript_id**: These fields uniquely identify the gene and transcript. They are crucial for linking exons to their corresponding transcripts and genes.\n",
        "- **feature**: The feature type can be `gene`, `transcript`, `exon`, `CDS`, etc.\n",
        "- **start** and **end**: These specify the genomic coordinates of the feature.\n",
        "- **strand**: Indicates whether the feature is on the forward or reverse DNA strand.\n",
        "\n",
        "### Common Uses of GTF Files:\n",
        "\n",
        "1. **RNA-Seq Analysis**: GTF files are used to map sequencing reads to specific genes and transcripts, helping to quantify gene expression levels.\n",
        "2. **Genome Annotation**: Researchers use GTF files to understand the structure of genes, including the locations of exons, introns, and UTRs (untranslated regions).\n",
        "3. **Comparative Genomics**: By comparing GTF files across species, researchers can study gene conservation and evolutionary relationships.\n",
        "4. **Variant Annotation**: GTF files help in linking genetic variants to specific regions of genes, such as exons or regulatory regions.\n",
        "\n",
        "### Tools for Working with GTF Files:\n",
        "\n",
        "- **HTSeq**: A Python package used for counting reads mapped to genes, often using GTF files.\n",
        "- **gffread**: A utility from the Cufflinks package for processing GTF and GFF files.\n",
        "- **pandas (Python)**: Can be used to parse and analyze GTF files in a tabular format.\n",
        "- **BEDTools**: A suite of tools for comparing genomic features, which can work with GTF files.\n",
        "\n",
        "### Differences Between GTF and GFF:\n",
        "\n",
        "While GTF is similar to GFF (General Feature Format), GTF is more tailored for gene and transcript annotations with stricter conventions, making it easier to work with in specific genomic contexts."
      ],
      "metadata": {
        "id": "iUdupqcgMjTq"
      }
    },
    {
      "cell_type": "markdown",
      "source": [
        "# **Human Ensembl GTF**\n",
        "A **Human Ensembl GTF** file is a specific type of GTF (Gene Transfer Format) file that contains gene annotations for the human genome, as provided by the Ensembl project. These annotations include detailed information about the structure of human genes, such as their positions, exons, transcripts, and other related genomic features.\n",
        "\n",
        "### Key Points about Human Ensembl GTF Files:\n",
        "\n",
        "1. **Source of Annotations:**\n",
        "   - The annotations in the Human Ensembl GTF file are generated by the Ensembl project, which integrates data from various sources, including experimental data, computational predictions, and manual curation. The Ensembl project provides high-quality, up-to-date annotations for the human genome and other species.\n",
        "\n",
        "2. **Genome Assembly:**\n",
        "   - The GTF file corresponds to a specific version of the human genome assembly, such as GRCh38 (the most recent human reference genome) or the older GRCh37. The file will specify which genome assembly it corresponds to.\n",
        "\n",
        "3. **Content of the GTF File:**\n",
        "   - **Gene Annotations**: Information about the start and end positions of genes, their names, and other related metadata.\n",
        "   - **Transcript Annotations**: Details about the different transcripts produced from each gene, including the start and end positions of exons, coding sequences (CDS), and untranslated regions (UTRs).\n",
        "   - **Exon Structure**: Positions of exons for each transcript, which are crucial for understanding the gene’s structure and for RNA-Seq analyses.\n",
        "   - **Other Features**: Information about regulatory elements, non-coding RNA genes, pseudogenes, etc., depending on the file.\n",
        "\n",
        "4. **Applications:**\n",
        "   - **RNA-Seq Analysis:** Used to map sequencing reads to specific genes and transcripts to measure gene expression levels.\n",
        "   - **Variant Annotation:** Helps link genetic variants to specific regions within genes (e.g., exons, introns, UTRs).\n",
        "   - **Gene Structure Studies:** Used to study the structure of genes, including alternative splicing and transcript diversity.\n",
        "\n",
        "### Example Use of a Human Ensembl GTF File:\n",
        "\n",
        "For example, if you are conducting an RNA-Seq analysis, you would download the Human Ensembl GTF file corresponding to the genome assembly you are working with (e.g., GRCh38). You would then use this GTF file to align your RNA-Seq reads to the human genome, allowing you to quantify gene expression accurately.\n",
        "\n",
        "### How to Access Human Ensembl GTF Files:\n",
        "\n",
        "1. **Ensembl FTP Site:**\n",
        "   - You can download Human Ensembl GTF files from the Ensembl FTP site. The files are organized by genome assembly and Ensembl release version.\n",
        "   - Example link: `ftp://ftp.ensembl.org/pub/release-112/gtf/homo_sapiens/` (Replace `112` with the relevant release version).\n",
        "\n",
        "2. **Ensembl Genome Browser:**\n",
        "   - You can navigate the Ensembl Genome Browser, search for the human genome, and download the corresponding GTF file from the \"Downloads\" section.\n",
        "\n",
        "3. **BioMart:**\n",
        "   - Ensembl’s BioMart tool allows for customized queries and downloads of gene annotations, which can be output in GTF format.\n",
        "\n",
        "### Naming Convention:\n",
        "- The naming of a Human Ensembl GTF file typically follows this pattern: `Homo_sapiens.GRCh38.112.gtf.gz`, where:\n",
        "  - **Homo_sapiens**: Indicates that this is the human genome.\n",
        "  - **GRCh38**: The genome assembly version.\n",
        "  - **112**: The Ensembl release version.\n",
        "  - **gtf.gz**: The file is compressed in Gzip format.\n",
        "\n",
        "### Example Line from a Human Ensembl GTF File:\n",
        "\n",
        "```\n",
        "1       ensembl gene    11869   14409   .       +       .       gene_id \"ENSG00000223972\"; gene_name \"DDX11L1\"; gene_biotype \"transcribed_unprocessed_pseudogene\";\n",
        "1       ensembl transcript      11869   14409   .       +       .       gene_id \"ENSG00000223972\"; transcript_id \"ENST00000456328\"; gene_name \"DDX11L1\"; transcript_name \"DDX11L1-201\";\n",
        "1       ensembl exon    11869   12227   .       +       .       gene_id \"ENSG00000223972\"; transcript_id \"ENST00000456328\"; exon_number \"1\"; gene_name \"DDX11L1\"; transcript_name \"DDX11L1-201\";\n",
        "```\n",
        "\n",
        "\n",
        "The Human Ensembl GTF file is a crucial resource in genomics, providing comprehensive gene annotations that are essential for many types of genetic and genomic analyses. It serves as a standardized format for representing gene structures, making it an indispensable tool in bioinformatics."
      ],
      "metadata": {
        "id": "MlsVyCmRNpL7"
      }
    },
    {
      "cell_type": "markdown",
      "source": [
        "# Install the necessary packages\n",
        "### complete"
      ],
      "metadata": {
        "id": "GLf1sL1BUT29"
      }
    },
    {
      "cell_type": "code",
      "source": [
        "# Instillation\n",
        "!pip install pandas gffutils\n",
        "!pip install openpyxl\n",
        "!wget ftp://ftp.ensembl.org/pub/release-112/gtf/homo_sapiens/Homo_sapiens.GRCh38.112.gtf.gz\n",
        "!gunzip Homo_sapiens.GRCh38.112.gtf.gz"
      ],
      "metadata": {
        "collapsed": true,
        "id": "8ybGVx3YXcOQ"
      },
      "execution_count": null,
      "outputs": []
    },
    {
      "cell_type": "code",
      "source": [
        "import pandas as pd\n",
        "import requests"
      ],
      "metadata": {
        "id": "umFL0JDglNQ9"
      },
      "execution_count": 2,
      "outputs": []
    },
    {
      "cell_type": "code",
      "source": [
        "# Define the GTF file path\n",
        "gtf_file = 'Homo_sapiens.GRCh38.112.gtf'\n",
        "# Define the column names for the GTF file\n",
        "columns = ['seqname', 'source', 'feature', 'start', 'end', 'score', 'strand', 'frame', 'attribute']\n",
        "# Load the GTF file into a pandas DataFrame\n",
        "df = pd.read_csv(gtf_file, sep='\\t', comment='#', names=columns, low_memory=False)"
      ],
      "metadata": {
        "id": "mJzAwnlrDJyn"
      },
      "execution_count": 3,
      "outputs": []
    },
    {
      "cell_type": "code",
      "source": [
        "# df.head() data frame of the whole GTF Ensembl data"
      ],
      "metadata": {
        "id": "Y7Z5mbnPGH8k"
      },
      "execution_count": 4,
      "outputs": []
    },
    {
      "cell_type": "markdown",
      "source": [
        "# Get Ensembl gene and transcript IDs from RefSeq ID, with exon and CDS count"
      ],
      "metadata": {
        "id": "l9rgADWqUkaV"
      }
    },
    {
      "cell_type": "code",
      "source": [
        "# @title Transcript Number\n",
        "# Prompt the user to input the RefSeq ID\n",
        "refseq_id = input(\"Please enter the RefSeq ID (e.g., NM_001267550): \")\n",
        "\n",
        "# Query Ensembl REST API for mapping\n",
        "server = \"https://rest.ensembl.org\"\n",
        "ext = f\"/xrefs/symbol/homo_sapiens/{refseq_id}?\"\n",
        "\n",
        "response = requests.get(server + ext, headers={\"Content-Type\": \"application/json\"})\n",
        "\n",
        "if not response.ok:\n",
        "    response.raise_for_status()\n",
        "\n",
        "decoded = response.json()\n",
        "\n",
        "# Initialize variables\n",
        "gene_id = None\n",
        "transcript_id = None\n",
        "\n",
        "# Assign the Ensembl Gene ID and Transcript ID\n",
        "for item in decoded:\n",
        "    if 'id' in item and item['type'] == 'gene':\n",
        "        gene_id = item['id']\n",
        "        print(f\"RefSeq ID: {refseq_id} -> Ensembl Gene ID: {gene_id}\")\n",
        "    elif 'id' in item and item['type'] == 'transcript':\n",
        "        transcript_id = item['id']\n",
        "        print(f\"RefSeq ID: {refseq_id} -> Ensembl Transcript ID: {transcript_id}\")\n",
        "\n",
        "# Display the assigned values\n",
        "print(f\"\\nAssigned Gene ID: {gene_id}\")\n",
        "print(f\"Assigned Transcript ID: {transcript_id}\")\n",
        "\n",
        "# Filter the DataFrame for the user-specified gene\n",
        "gene_df = df[df['attribute'].str.contains(gene_id)]\n",
        "\n",
        "# Further filter the DataFrame for the specific transcript ID\n",
        "transcript_df = gene_df[gene_df['attribute'].str.contains(transcript_id)]\n",
        "\n",
        "# Filter the DataFrame for the specific transcript ID\n",
        "exons_df = gene_df[(gene_df['feature'] == 'exon') & (gene_df['attribute'].str.contains(transcript_id))]\n",
        "transcript_ids = gene_df['attribute'].str.extract(r'transcript_id \"([^\"]+)\"')[0].dropna().unique()\n",
        "cds_df = gene_df[(gene_df['feature'] == 'CDS') & (gene_df['attribute'].str.contains(transcript_id))]\n",
        "\n",
        "\n",
        "# Count the number of exons\n",
        "exon_count = len(exons_df)\n",
        "cds_count = len(cds_df)\n",
        "\n",
        "# Display the number of exons\n",
        "print(f\"The transcript {transcript_id} has {exon_count} exons and {cds_count} CDS\")\n",
        "print(\"If the above information is correct, please proceed with the rest of the code below.\")\n",
        "\n",
        "# DATAFRAMES\n",
        "# gene_df : df for entire gene with all transcrpts\n",
        "# exons_df : df of just the exons for my particulare transcript\n",
        "# cds_df :df contains just the CDS for my transcript\n",
        "# transcript_df : df contains all the data for the transcript including exons, cds, start and end codons and utr regions"
      ],
      "metadata": {
        "id": "gjNKW4LAiKOf"
      },
      "execution_count": null,
      "outputs": []
    },
    {
      "cell_type": "markdown",
      "source": [
        "# IF YOU GET THE WRONG TRANSCRIPT:"
      ],
      "metadata": {
        "id": "sAjCL9oIb-Yq"
      }
    },
    {
      "cell_type": "code",
      "source": [
        "# if the total exon number is not right, check if the transcript id for your refseq is the same manually. else:\n",
        "\n",
        "# Prompt the user to input the Ensembl gene ID\n",
        "gene_id_check = input(\"Please enter the Ensembl gene ID as shown above (e.g., ENSG00000155657): \")\n",
        "\n",
        "# Filter the DataFrame for the specific gene ID and CDS features\n",
        "cds_df_check = df[(df['attribute'].str.contains(gene_id)) & (df['feature'] == 'exon')]\n",
        "\n",
        "# Extract transcript IDs and count CDS entries for each transcript\n",
        "cds_counts_check = cds_df_check['attribute'].str.extract(r'transcript_id \"([^\"]+)\"')[0].value_counts()\n",
        "\n",
        "# Display the number of CDS entries for each transcript\n",
        "print(f\"Exon counts for each transcript in gene {gene_id}:\")\n",
        "for transcript_id, count in cds_counts_check.items():\n",
        "    print(f\"Transcript ID: {transcript_id}, Number of Exons: {count}\")\n"
      ],
      "metadata": {
        "id": "L_atiJZRZvIb"
      },
      "execution_count": null,
      "outputs": []
    },
    {
      "cell_type": "markdown",
      "source": [
        "# Code Execution"
      ],
      "metadata": {
        "id": "4crQSPLevHaC"
      }
    },
    {
      "cell_type": "markdown",
      "source": [
        "# Calculate % of the exon"
      ],
      "metadata": {
        "id": "uXRPkZxcWH_H"
      }
    },
    {
      "cell_type": "code",
      "source": [
        "# @title Exon Number\n",
        "# Input the CDS number\n",
        "cds_number = input(\"Please enter the exon number you want to analyze (e.g., 15): \")\n",
        "\n",
        "# Filter for the specified CDS number in the CDS df of the transcript\n",
        "myCDS_df = cds_df[cds_df['attribute'].str.contains(f'exon_number \"{cds_number}\"')]\n",
        "\n",
        "# Extract the start, end, and attribute information for the selected cds\n",
        "cds_start = myCDS_df['start'].values[0]\n",
        "cds_end = myCDS_df['end'].values[0]\n",
        "cds_length = cds_end - cds_start + 1  # Calculate exon length\n",
        "cds_attributes = myCDS_df['attribute'].values[0]\n",
        "\n",
        "# Extract the start, end, and attribute of transcript\n",
        "transcript_start = transcript_df['start'].values[0]\n",
        "transcript_end = transcript_df['end'].values[0]\n",
        "transcript_length = transcript_end - transcript_start + 1\n",
        "\n",
        "# Calculate the total length of all exons\n",
        "cds_lengths = cds_df['end'] - cds_df['start'] +1\n",
        "full_cds_length = cds_lengths.sum() + 3\n",
        "\n",
        "# Calculate the percentage of the selected exon relative to the entire gene length\n",
        "exon_percentage = (cds_length / transcript_length) * 100\n",
        "\n",
        "# Display the start, end, length, and full attributes\n",
        "print(f\"Exon {cds_number} Start: {cds_start}\")\n",
        "print(f\"Exon {cds_number} End: {cds_end}\")\n",
        "print(f\"Exon {cds_number} Length: {cds_length}\")\n",
        "\n",
        "# Display the start, end, and length of the transcript\n",
        "print(f\"Transcript Start: {transcript_start}\")\n",
        "print(f\"Transcript End: {transcript_end}\")\n",
        "print(f\"CDS Length: {full_cds_length}\")\n",
        "\n",
        "# pct manual\n",
        "pct_ex = (cds_length / full_cds_length) * 100\n",
        "print(f\"Exon {cds_number} is {pct_ex}% of the total gene length.\")\n",
        "\n",
        "if pct_ex > 9.99:\n",
        "  print(\"PVS1_STRONG\")\n",
        "else:\n",
        "    print(\"PVS1_MODERATE\")"
      ],
      "metadata": {
        "id": "DbTXe-nDqJPl"
      },
      "execution_count": null,
      "outputs": []
    }
  ]
}